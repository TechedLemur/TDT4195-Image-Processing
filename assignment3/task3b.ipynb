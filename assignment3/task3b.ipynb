{
 "cells": [
  {
   "cell_type": "code",
   "execution_count": 17,
   "id": "0d051c87",
   "metadata": {},
   "outputs": [],
   "source": [
    "import utils\n",
    "import skimage\n",
    "import skimage.morphology as morph\n",
    "import numpy as np"
   ]
  },
  {
   "cell_type": "code",
   "execution_count": 36,
   "id": "13b0d833",
   "metadata": {},
   "outputs": [],
   "source": [
    "def remove_noise(im: np.ndarray) -> np.ndarray: # from 3a\n",
    "    B =  morph.disk(5)\n",
    "    im = morph.closing(im, B)\n",
    "    B =  morph.disk(8)\n",
    "    im = morph.erosion(im, B)\n",
    "\n",
    "    return im"
   ]
  },
  {
   "cell_type": "code",
   "execution_count": 34,
   "id": "9687191f",
   "metadata": {},
   "outputs": [],
   "source": [
    "def distance_transform(im: np.ndarray) -> np.ndarray:\n",
    "    \"\"\"\n",
    "        A function that computes the distance to the closest boundary pixel.\n",
    "\n",
    "        args:\n",
    "            im: np.ndarray of shape (H, W) with boolean values (dtype=np.bool)\n",
    "        return:\n",
    "            (np.ndarray) of shape (H, W). dtype=np.int32\n",
    "    \"\"\"\n",
    "    ### START YOUR CODE HERE ### (You can change anything inside this block)\n",
    "    # You can also define other helper functions\n",
    "    assert im.dtype == np.bool\n",
    "    structuring_element = np.array([\n",
    "        [1, 1, 1],\n",
    "        [1, 1, 1],\n",
    "        [1, 1, 1]\n",
    "    ], dtype=bool)\n",
    "\n",
    "    H = im.shape[0]\n",
    "    W = im.shape[1]\n",
    "\n",
    "    current = im\n",
    "\n",
    "    result = np.zeros(im.shape)\n",
    "    c = 0\n",
    "    while not (current == False).all():\n",
    "        prev = current\n",
    "        c += 1\n",
    "        current = morph.erosion(current, structuring_element)\n",
    "\n",
    "        new = np.bitwise_xor(prev, current)\n",
    "\n",
    "        for i in range(H):\n",
    "            for j in range(W):\n",
    "                if new[i,j]:\n",
    "                    result[i,j] = c\n",
    "\n",
    "\n",
    "\n",
    "    result = result.astype(np.int32)\n",
    "    return result\n",
    "    ### END YOUR CODE HERE ###"
   ]
  },
  {
   "cell_type": "code",
   "execution_count": 35,
   "id": "ce119b78",
   "metadata": {},
   "outputs": [
    {
     "name": "stdout",
     "output_type": "stream",
     "text": [
      "Reading image: images\\noisy.png\n"
     ]
    },
    {
     "name": "stderr",
     "output_type": "stream",
     "text": [
      "C:\\Users\\joste\\AppData\\Local\\Temp/ipykernel_4372/3765616046.py:12: DeprecationWarning: `np.bool` is a deprecated alias for the builtin `bool`. To silence this warning, use `bool` by itself. Doing this will not modify any behavior and is safe. If you specifically wanted the numpy scalar type, use `np.bool_` here.\n",
      "Deprecated in NumPy 1.20; for more details and guidance: https://numpy.org/devdocs/release/1.20.0-notes.html#deprecations\n",
      "  assert im.dtype == np.bool\n"
     ]
    },
    {
     "name": "stdout",
     "output_type": "stream",
     "text": [
      "Saving image to: image_processed\\noisy-distance.png\n"
     ]
    },
    {
     "name": "stderr",
     "output_type": "stream",
     "text": [
      "c:\\Users\\joste\\prog\\TDT4195-Image-Processing\\assignment3\\utils.py:39: UserWarning: Image min/max is outside the range [0.0, 1.0]. Squashing the image to this range. (Can be safely ignored)\n",
      "  warnings.warn(\"Image min/max is outside the range [0.0, 1.0]. Squashing the image to this range. (Can be safely ignored)\")\n"
     ]
    }
   ],
   "source": [
    "if __name__ == \"__main__\":\n",
    "    im = utils.read_image(\"noisy.png\")\n",
    "    binary_image = (im != 0)\n",
    "    noise_free_image = remove_noise(binary_image)\n",
    "    distance = distance_transform(noise_free_image)\n",
    "\n",
    "    assert im.shape == distance.shape, \"Expected image shape ({}) to be same as resulting image shape ({})\".format(\n",
    "            im.shape, distance.shape)\n",
    "    assert distance.dtype == np.int32, \"Expected resulting image dtype to be np.int32. Was: {}\".format(\n",
    "            distance.dtype)\n",
    "\n",
    "    distance = utils.to_uint8(distance)\n",
    "    utils.save_im(\"noisy-distance.png\", distance)"
   ]
  }
 ],
 "metadata": {
  "interpreter": {
   "hash": "6cdaa56f2c6d00e26db56d5b38e6b72bc8bebfb9a50408d42f69785dfa696c20"
  },
  "kernelspec": {
   "display_name": "Python 3.9.7 64-bit ('tdt4195': conda)",
   "language": "python",
   "name": "python3"
  },
  "language_info": {
   "codemirror_mode": {
    "name": "ipython",
    "version": 3
   },
   "file_extension": ".py",
   "mimetype": "text/x-python",
   "name": "python",
   "nbconvert_exporter": "python",
   "pygments_lexer": "ipython3",
   "version": "3.9.7"
  }
 },
 "nbformat": 4,
 "nbformat_minor": 5
}
