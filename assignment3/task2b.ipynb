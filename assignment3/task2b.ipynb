{
 "cells": [
  {
   "cell_type": "code",
   "execution_count": 2,
   "id": "2b98e964",
   "metadata": {},
   "outputs": [],
   "source": [
    "import utils\n",
    "import numpy as np"
   ]
  },
  {
   "cell_type": "code",
   "execution_count": 17,
   "id": "3b20392d",
   "metadata": {},
   "outputs": [],
   "source": [
    "def region_growing(im: np.ndarray, seed_points: list, T: int) -> np.ndarray:\n",
    "    \"\"\"\n",
    "        A region growing algorithm that segments an image into 1 or 0 (True or False).\n",
    "        Finds candidate pixels with a Moore-neighborhood (8-connectedness). \n",
    "        Uses pixel intensity thresholding with the threshold T as the homogeneity criteria.\n",
    "        The function takes in a grayscale image and outputs a boolean image\n",
    "\n",
    "        args:\n",
    "            im: np.ndarray of shape (H, W) in the range [0, 255] (dtype=np.uint8)\n",
    "            seed_points: list of list containing seed points (row, col). Ex:\n",
    "                [[row1, col1], [row2, col2], ...]\n",
    "            T: integer value defining the threshold to used for the homogeneity criteria.\n",
    "        return:\n",
    "            (np.ndarray) of shape (H, W). dtype=np.bool\n",
    "    \"\"\"\n",
    "    ### START YOUR CODE HERE ### (You can change anything inside this block)\n",
    "    # You can also define other helper functions\n",
    "    H = im.shape[0]\n",
    "    W = im.shape[1]\n",
    "    segmented = np.zeros_like(im).astype(bool)\n",
    "    im = im.astype(float)\n",
    "    for row, col in seed_points:\n",
    "        segmented[row, col] = True\n",
    "\n",
    "    \n",
    "    for seed in seed_points:\n",
    "        queue = [seed]\n",
    "        seed_intesity = im[seed[0], seed[1]]\n",
    "        while queue:\n",
    "            row,col = queue.pop()\n",
    "\n",
    "            for i in range(row-1, row+2):\n",
    "                for j in range(col-1, col+2):\n",
    "                    if i < 0 or i >= H or j < 0 or j >= W: # invalid index, boundary condition\n",
    "                        break\n",
    "                    # Check if Q(x,y) holds, and that we have not already added the point.\n",
    "                    if np.abs(im[i,j] - seed_intesity) <= T  and not segmented[i,j]: \n",
    "                        segmented[i,j] = True \n",
    "                        queue.append([i,j]) # Add point to queue\n",
    "\n",
    "\n",
    "\n",
    "    return segmented\n",
    "    ### END YOUR CODE HERE ###"
   ]
  },
  {
   "cell_type": "code",
   "execution_count": 20,
   "id": "6a43f84e",
   "metadata": {},
   "outputs": [
    {
     "name": "stdout",
     "output_type": "stream",
     "text": [
      "Reading image: images\\defective-weld.png\n",
      "Saving image to: image_processed\\defective-weld-segmented.png\n"
     ]
    },
    {
     "name": "stderr",
     "output_type": "stream",
     "text": [
      "C:\\Users\\joste\\AppData\\Local\\Temp/ipykernel_25412/3052954727.py:16: DeprecationWarning: `np.bool` is a deprecated alias for the builtin `bool`. To silence this warning, use `bool` by itself. Doing this will not modify any behavior and is safe. If you specifically wanted the numpy scalar type, use `np.bool_` here.\n",
      "Deprecated in NumPy 1.20; for more details and guidance: https://numpy.org/devdocs/release/1.20.0-notes.html#deprecations\n",
      "  assert segmented_image.dtype == np.bool, \"Expected thresholded image dtype to be np.bool. Was: {}\".format(\n"
     ]
    }
   ],
   "source": [
    "if __name__ == \"__main__\":\n",
    "    # DO NOT CHANGE\n",
    "    im = utils.read_image(\"defective-weld.png\")\n",
    "\n",
    "    seed_points = [ # (row, column)\n",
    "        [254, 138], # Seed point 1\n",
    "        [253, 296], # Seed point 2\n",
    "        [233, 436], # Seed point 3\n",
    "        [232, 417], # Seed point 4\n",
    "    ]\n",
    "    intensity_threshold = 50\n",
    "    segmented_image = region_growing(im, seed_points, intensity_threshold)\n",
    "\n",
    "    assert im.shape == segmented_image.shape, \"Expected image shape ({}) to be same as thresholded image shape ({})\".format(\n",
    "        im.shape, segmented_image.shape)\n",
    "    assert segmented_image.dtype == np.bool, \"Expected thresholded image dtype to be np.bool. Was: {}\".format(\n",
    "            segmented_image.dtype)\n",
    "\n",
    "    segmented_image = utils.to_uint8(segmented_image)\n",
    "    utils.save_im(\"defective-weld-segmented.png\", segmented_image)"
   ]
  }
 ],
 "metadata": {
  "interpreter": {
   "hash": "6cdaa56f2c6d00e26db56d5b38e6b72bc8bebfb9a50408d42f69785dfa696c20"
  },
  "kernelspec": {
   "display_name": "Python 3.9.7 64-bit ('tdt4195': conda)",
   "language": "python",
   "name": "python3"
  },
  "language_info": {
   "codemirror_mode": {
    "name": "ipython",
    "version": 3
   },
   "file_extension": ".py",
   "mimetype": "text/x-python",
   "name": "python",
   "nbconvert_exporter": "python",
   "pygments_lexer": "ipython3",
   "version": "3.9.7"
  }
 },
 "nbformat": 4,
 "nbformat_minor": 5
}
